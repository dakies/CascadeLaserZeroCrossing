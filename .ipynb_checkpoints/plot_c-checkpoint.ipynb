{
 "cells": [
  {
   "cell_type": "code",
   "execution_count": 2,
   "metadata": {
    "collapsed": true,
    "pycharm": {
     "is_executing": false
    }
   },
   "outputs": [
    {
     "data": {
      "image/png": "[encoded data removed]",
      "text/plain": [
       "<Figure size 432x288 with 1 Axes>"
      ]
     },
     "metadata": {
      "needs_background": "light"
     },
     "output_type": "display_data"
    }
   ],
   "source": [
    "import matplotlib.pyplot as plt\n",
    "\n",
    "X, Y = [], []\n",
    "for line in open('kalman_c_hp.txt', 'r'):\n",
    "  values = [float(s) for s in line.split()]\n",
    "  Y.append(values[0])\n",
    "plt.plot( Y)\n",
    "\n",
    "X, Y = [], []\n",
    "for line in open('kalman_c_orig.txt', 'r'):\n",
    "  values = [float(s) for s in line.split()]\n",
    "  Y.append(values[0])\n",
    "plt.plot(Y)\n",
    "\n",
    "X, Y = [], []\n",
    "for line in open('kalman_filt.txt', 'r'):\n",
    "  values = [float(s) for s in line.split()]\n",
    "  Y.append(values[0])\n",
    "plt.plot(Y)\n",
    "plt.ion()\n",
    "plt.show()"
   ]
  },
  {
   "cell_type": "code",
   "execution_count": null,
   "metadata": {
    "pycharm": {
     "name": "#%%\n"
    }
   },
   "outputs": [],
   "source": [
    "\n"
   ]
  }
 ],
 "metadata": {
  "kernelspec": {
   "display_name": "Python 3",
   "language": "python",
   "name": "python3"
  },
  "language_info": {
   "codemirror_mode": {
    "name": "ipython",
    "version": 3
   },
   "file_extension": ".py",
   "mimetype": "text/x-python",
   "name": "python",
   "nbconvert_exporter": "python",
   "pygments_lexer": "ipython3",
   "version": "3.7.10"
  },
  "pycharm": {
   "stem_cell": {
    "cell_type": "raw",
    "metadata": {
     "collapsed": false
    },
    "source": []
   }
  }
 },
 "nbformat": 4,
 "nbformat_minor": 1
}
